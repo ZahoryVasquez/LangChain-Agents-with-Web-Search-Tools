{
 "cells": [
  {
   "cell_type": "markdown",
   "id": "41222d77",
   "metadata": {},
   "source": [
    "# LAB: Practice with Tavily + LangChain Agents\n",
    "\n",
    "### Objective\n",
    "Reinforce your understanding of LangChain agents integrated with Tavily for real-time web search by solving two open-ended tasks. You'll:\n",
    "- Load and configure a LangChain agent with Tavily\n",
    "- Build effective prompts\n",
    "- Generate structured, useful outputs from real-time data"
   ]
  },
  {
   "cell_type": "markdown",
   "id": "baadf072",
   "metadata": {},
   "source": [
    "### Setup"
   ]
  },
  {
   "cell_type": "code",
   "execution_count": 1,
   "id": "cafe37d8",
   "metadata": {},
   "outputs": [],
   "source": [
    "import os\n",
    "from langchain.agents import initialize_agent, AgentType, Tool\n",
    "from langchain.chat_models import ChatOpenAI\n",
    "from langchain.tools.tavily_search import TavilySearchResults\n",
    "import tiktoken\n",
    "from IPython.display import Markdown, display\n",
    "from  dotenv import load_dotenv\n",
    "import warnings\n",
    "warnings.filterwarnings('ignore')\n",
    "from langchain.tools.tavily_search import TavilySearchResults\n",
    "\n",
    "load_dotenv()\n",
    "tavily_search = TavilySearchResults()\n",
    "\n",
    "# LLM + Encoding\n",
    "llm = ChatOpenAI(model=\"gpt-4\", temperature=0)\n",
    "encoding = tiktoken.encoding_for_model(\"gpt-4\")\n",
    "\n",
    "# Safe Tavily wrapper\n",
    "def safe_search(query: str) -> str:\n",
    "    result = tavily_search.run(query)\n",
    "\n",
    "    # Ensure result is a string — Tavily returns dict with 'snippets' sometimes\n",
    "    if isinstance(result, dict):\n",
    "        result_text = result.get(\"content\", \"\") or str(result)\n",
    "    else:\n",
    "        result_text = str(result)\n",
    "\n",
    "    tokens = encoding.encode(result_text)\n",
    "    trimmed = encoding.decode(tokens[:3500])  # leave room for GPT-4 response\n",
    "    return trimmed\n",
    "\n",
    "\n",
    "# LangChain tool\n",
    "tools = [Tool(name=\"TavilySafeSearch\", func=safe_search, description=\"Web search tool\")]\n",
    "agent = initialize_agent(tools=tools, llm=llm, agent=AgentType.ZERO_SHOT_REACT_DESCRIPTION, verbose=True)"
   ]
  },
  {
   "cell_type": "markdown",
   "id": "5089593a",
   "metadata": {},
   "source": [
    "### Exercise 1: AI in Healthcare\n",
    "\n",
    "Goal: Investigate and summarize the latest advancements in generative AI applied to healthcare in 2025.\n",
    "\n",
    "- Design a prompt that asks the agent to retrieve the most recent updates.\n",
    "- Ensure the agent outputs a structured response in Markdown."
   ]
  },
  {
   "cell_type": "code",
   "execution_count": 2,
   "id": "f882ac3f",
   "metadata": {},
   "outputs": [
    {
     "name": "stdout",
     "output_type": "stream",
     "text": [
      "\n",
      "\n",
      "\u001b[1m> Entering new AgentExecutor chain...\u001b[0m\n",
      "\u001b[32;1m\u001b[1;3mI need to search for the latest advancements in generative AI applied to healthcare in 2025. I will use the TavilySafeSearch tool to find this information.\n",
      "Action: TavilySafeSearch\n",
      "Action Input: Latest advancements in generative AI in healthcare 2025\u001b[0m\n",
      "Observation: \u001b[36;1m\u001b[1;3m[{'title': '[PDF] The Generative AI Revolution: 9 Trends Reshaping Healthcare in ...', 'url': 'https://www.impact-advisors.com/wp-content/uploads/2025/01/IA_GenAI_Jan2025_final.pdf', 'content': 'As we move into 2025, we anticipate a pivotal shift: Gen AI will usher in the era of the AI-Powered Clinician of the future. This transformation will redefine the talent landscape, with the primary constraint moving from technical roles to knowledge workers and their ability to embrace these new technologies. In this article, we examine both the current state of healthcare AI adoption and the transformative trends we expect to unfold over the next 12 to 24 months. [...] CONNECT WITH US Visit Impact-Advisors.com to learn more or connect with us on social media. The Generative AI Revolution: 9 Trends Reshaping Healthcare in 2025 JANUARY 2025 trends The Generative AI Revolution ©2025 Impact Advisors | impact-advisors.com | 800-680-7570 2 Contents 01 Introduction 02 Our Observations A Promise Unfulfilled: Gen AI Has Not Transformed U.S. Hospital Systems, Yet Lots of Experimentation and Focus on Disparate Use Cases to Enhance Productivity Gen AI Infrastructure: From [...] 6  7  The Generative AI Revolution ©2025 Impact Advisors | impact-advisors.com | 800-680-7570 11 Conclusion Over the next 24 months, healthcare organizations that fully embrace Gen AI will gain unprecedented operational efficiencies, allowing them to strategically reallocate resources and reshape their organizational structure. Leaders will be able to reduce investment in routine administrative functions while deepening their capabilities in key areas: • Custom developed IP in areas of', 'score': 0.82761955}, {'title': 'An Overview of 2025 AI Trends in Healthcare - HealthTech Magazine', 'url': 'https://healthtechmagazine.net/article/2025/01/overview-2025-ai-trends-healthcare', 'content': 'Some healthcare organizations are beginning to experiment with retrieval-augmented generation. RAG is an AI framework that combines traditional vector database capabilities with LLMs. In other words, users get the benefits of a generative AI-powered chatbot that can access an organization’s more accurate and recent data.\\n\\nRAG allows the organization’s chatbot to produce better answers for staff in Q&A applications. This reduces some of the pitfalls of using generative AI tools. [...] It’s been more than two years since ChatGPT was first released, and during that time artificial intelligence has become synonymous with generative AI. When most people discuss AI, they’re usually referring to large language models (LLMs) and related chatbots. That’s how big of an impact generative AI had across industries — as well as everyday people around the world — and healthcare is no exception. [...] Once healthcare organizations are ready to move to the next step of AI implementation, it can be helpful to collaborate with a technology partner that has experience in the realm. CDW offers data workshops to help healthcare organizations prepare their data for AI. We also offer strategy engagements for modern data platforms and deploying generative AI.', 'score': 0.8235701}, {'title': 'Top 4 Applications for Generative AI in Healthcare', 'url': 'https://blog.blackbaud.com/generative-ai-in-healthcare/', 'content': '## Utility Navigation\\n\\n## Main Navigation\\n\\nThe ENGAGE Blog by Blackbaud\\nBlackbaud\\nBlackbaud\\n\\nArtificial Intelligence\\n\\n# Top 4 Applications for Generative AI in Healthcare\\n\\nJanuary 22, 2025 |   3  min Read\\n\\nSHARE ARTICLE:\\n\\nArtificial intelligence (AI) holds transformative implications across various sectors and stakeholders, including grantmakers in the mission-driven industry, teachers and administration in education, and, notably, health professionals across the care continuum. [...] Blackbaud has been highlighting our new SKY API capabilities within Blackbaud Grantmaking since we announced they were live in beta [...]\\n\\nOctober 25, 2024 |  4 min Read\\n\\nCrisis Management\\n\\n### How Savvy Organizations Weather Uncertain Times\\n\\nPreparing for the unknown is a tenant of leadership in today’s ever-changing economic, political, and cultural landscape—and those who know [...]\\n\\nJune 11, 2025 |  4 min Read\\n\\nBlackbaud\\n\\n© 2025 Blackbaud, Inc. All rights reserved. [...] See how our Intelligence for Good® AI strategy can help you drive even greater impact.\\n\\nLearn more\\n\\n## Related Articles\\n\\nautomation definitions for nonprofits\\n\\nProcess Automation\\n\\n### What Nonprofits Should Know About Process Automation\\n\\nImagine you had an extra hour each day to do big-picture, meaningful work. What would you do? According to Asana’s [...]\\n\\nJuly 8, 2025 |  7 min Read\\n\\nGrants Strategy\\n\\n### Blackbaud Grantmaking Has SKY APIs, But What Does that Mean for Me?', 'score': 0.76554126}, {'title': 'AI Breakthoughs in Healthcare and Medical: 2025 News', 'url': 'https://www.crescendo.ai/news/ai-in-healthcare-news', 'content': 'Check out these latest AI-related healthcare news and breakthroughs in 2025.', 'score': 0.6538572}, {'title': 'Augmented intelligence in medicine | American Medical Association', 'url': 'https://www.ama-assn.org/practice-management/digital-health/augmented-intelligence-medicine', 'content': '## Sept. 5, 2025: Advocacy Update spotlight on hearing on AI in health care\\n\\nEnergy and Commerce Health Subcommittee holds hearing on AI in health care and more in the latest Advocacy Update spotlight.\\n\\n## Sept. 5, 2025: National Advocacy Update\\n\\nTrump administration removes CDC director; additional CDC senior staff resign, and more in the latest National Advocacy Update.\\n\\n## September 2025 Practice Innovation Boot Camp [...] The AMA is committed to ensuring that AI can meet its full potential to advance clinical care and improve clinician well-being. As the number of AI-enabled health care tools continue to grow, it is critical they are designed, developed and deployed in a manner that is ethical, equitable and responsible. The use of AI in health care must be transparent to both physicians and patients. [...] Learn how AI is being used in health care as the medical community’s understanding of the application grows. AMA articles focus on ways coding content advances to reflect the emergence of digital health and diagnostics, and how AI should be incorporated into physician training.\\n\\nStay up-to-date on information about health care AI, including the latest news, trends and AMA statements.\\n\\nText or chat balloons\\n\\n### How health AI can be a physician’s “co-pilot” to improve care', 'score': 0.6216563}]\u001b[0m\n",
      "Thought:\u001b[32;1m\u001b[1;3mI have found several sources that discuss the latest advancements in generative AI in healthcare in 2025. I will now extract the relevant information from these sources and structure it into a Markdown report.\n",
      "Action: TavilySafeSearch\n",
      "Action Input: Detailed advancements of generative AI in healthcare 2025\u001b[0m\n",
      "Observation: \u001b[36;1m\u001b[1;3m[{'title': 'Generative AI in Healthcare: Use Cases, Benefits, and Challenges', 'url': 'https://www.johnsnowlabs.com/generative-ai-healthcare/', 'content': 'The evolution of generative AI in healthcare in 2025 will bring major breakthroughs in personalized medicine, synthetic data generation, and AI-driven diagnostics. Compared to 2024, when many innovations were in experimental phases, 2025 will mark the transition to full-scale adoption, with stricter regulations ensuring ethical AI deployment. As healthcare generative AI continues to evolve, its potential to revolutionize patient care, drug development, and medical research will be greater than [...] Greater Adoption of Multimodal AI Models  \\n  In 2024, most healthcare generative AI applications relied on single-modality models, primarily text-based large language models (LLMs). However, generative AI trends 2025 indicate a shift toward multimodal models capable of analyzing and generating text, images, genomics data, and even real-time patient vitals simultaneously. This advancement will significantly improve diagnostics, clinical decision support, and medical imaging analysis. [...] In 2024, AI-assisted drug discovery showed promise, but generative AI medicine in 2025 will take it a step further by designing novel drug compounds in real time. AI-driven protein structure predictions and molecule generation will shorten the drug development lifecycle and improve treatment outcomes for complex diseases.\\n AI-Augmented Precision Medicine & Diagnostics', 'score': 0.921929}, {'title': 'An Overview of 2025 AI Trends in Healthcare - HealthTech Magazine', 'url': 'https://healthtechmagazine.net/article/2025/01/overview-2025-ai-trends-healthcare', 'content': 'Some healthcare organizations are beginning to experiment with retrieval-augmented generation. RAG is an AI framework that combines traditional vector database capabilities with LLMs. In other words, users get the benefits of a generative AI-powered chatbot that can access an organization’s more accurate and recent data.\\n\\nRAG allows the organization’s chatbot to produce better answers for staff in Q&A applications. This reduces some of the pitfalls of using generative AI tools. [...] and related chatbots. That’s how big of an impact generative AI had across industries — as well as everyday people around the world — and healthcare is no exception. [...] For many healthcare organizations, AI is still a buzz phrase, but one that is attractive due to its promise to improve clinical and administrative workflows. In 2024, early adopters showcased its possibilities. This year, we expect to see more organizations dipping their toes into the generative AI space. While more healthcare leaders are considering and preparing for AI implementation, they are also pushing vendors to show the actual value their solutions provide.', 'score': 0.8145405}, {'title': 'Generative AI in healthcare: Current trends and future outlook', 'url': 'https://www.mckinsey.com/industries/healthcare/our-insights/generative-ai-in-healthcare-current-trends-and-future-outlook', 'content': 'Published Time: 2025-03-26T00:00:00Z\\n\\nGenerative AI in healthcare: Current trends and future outlook | McKinsey\\n\\nSkip to main content\\n\\n\\n\\nGen AI is rapidly transforming the healthcare industry. To understand the changing landscape, McKinsey has surveyed healthcare leaders since 2023 about their perspectives and approaches to gen AI (see sidebar, “Research methodology”).\\n\\nByline\\n\\nAbout the authors [...] So far, organizations that have developed their capabilities and appropriately targeted their gen AI efforts have had the most success achieving at-scale implementation. The development of gen AI remains important to success in the healthcare space, and leaders can consider how to position their organizations for the future. Successful implementations will require a value-driven strategy, strong delivery capabilities, and robust organizational management. [...] Gen AI may create tremendous value in areas that could fundamentally improve patient experience and streamline operations to generate cost savings. Respondents across subsectors said gen AI’s greatest source of potential could be in improving administrative efficiency and clinical productivity. Many respondents also recognize opportunities in patient or member engagement and IT or infrastructure, suggesting a wide breadth of gen AI use cases.', 'score': 0.7756902}, {'title': 'Generative AI in Healthcare: 3 Real-World Examples', 'url': 'https://www.willowtreeapps.com/insights/generative-ai-in-healthcare', 'content': 'Strategy Consulting\\n Design & Creative\\n Product Development\\n Digital Marketing\\n Data & AI\\n\\nContact Us\\n\\n Join our team\\n DEI at WillowTree\\n Social Impact\\n University\\n\\nExplore WillowTree’s thought leadership\\n\\nProudly a telus digital company\\n\\nLearn more\\n\\n© WillowTree, LLC 2025\\n\\nPrivacy PolicyMedia Inquiries', 'score': 0.58465123}, {'title': 'Generative AI in healthcare: an implementation science informed ...', 'url': 'https://implementationscience.biomedcentral.com/articles/10.1186/s13012-024-01357-9', 'content': 'The translational path of generative AI in healthcare is a journey that involves the integration of this advanced technology into the clinical setting [54:111.\")]. This process has the potential to revolutionize the way healthcare is delivered, by automating tasks and generating relevant information, thus enhancing the efficiency of healthcare delivery [26:2284–9.\"), 35:1349–50.\")]. Generative AI can automate routine tasks such as data entry, appointment scheduling and even some aspects of [...] compression . These advancements aim to enhance the representation learning capabilities of GANs and enable them to generate more realistic and diverse samples. [...] the scheduling process. Generative AI can also automate the process of insurance claims. It can read and understand the claim documents, verify the information, check for any discrepancies and process the claim. This can significantly reduce the time taken to process claims and minimise errors. By automating these tasks, healthcare providers can save time and resources and improve the patient experience as they get faster responses and more efficient service.', 'score': 0.55796635}]\u001b[0m\n",
      "Thought:\u001b[32;1m\u001b[1;3mI have found detailed information about the advancements in generative AI in healthcare in 2025. I will now structure this information into a Markdown report.\n",
      "Final Answer: \n",
      "# Latest Advancements in Generative AI Applied to Healthcare in 2025\n",
      "\n",
      "## 1. Major Breakthroughs in Personalized Medicine, Synthetic Data Generation, and AI-Driven Diagnostics\n",
      "- Transition to full-scale adoption of generative AI in healthcare with stricter regulations ensuring ethical AI deployment.\n",
      "- Potential to revolutionize patient care, drug development, and medical research.\n",
      "- Source: [John Snow Labs](https://www.johnsnowlabs.com/generative-ai-healthcare/)\n",
      "\n",
      "## 2. Greater Adoption of Multimodal AI Models\n",
      "- Shift from single-modality models to multimodal models capable of analyzing and generating text, images, genomics data, and real-time patient vitals simultaneously.\n",
      "- Significant improvement in diagnostics, clinical decision support, and medical imaging analysis.\n",
      "- Source: [John Snow Labs](https://www.johnsnowlabs.com/generative-ai-healthcare/)\n",
      "\n",
      "## 3. AI-Assisted Drug Discovery\n",
      "- Generative AI in 2025 will design novel drug compounds in real time.\n",
      "- AI-driven protein structure predictions and molecule generation will shorten the drug development lifecycle and improve treatment outcomes for complex diseases.\n",
      "- Source: [John Snow Labs](https://www.johnsnowlabs.com/generative-ai-healthcare/)\n",
      "\n",
      "## 4. Retrieval-Augmented Generation (RAG)\n",
      "- RAG is an AI framework that combines traditional vector database capabilities with Large Language Models (LLMs).\n",
      "- RAG allows the organization’s chatbot to produce better answers for staff in Q&A applications.\n",
      "- Source: [HealthTech Magazine](https://healthtechmagazine.net/article/2025/01/overview-2025-ai-trends-healthcare)\n",
      "\n",
      "## 5. Administrative Efficiency and Clinical Productivity\n",
      "- Generative AI's greatest source of potential could be in improving administrative efficiency and clinical productivity.\n",
      "- Many respondents also recognize opportunities in patient or member engagement and IT or infrastructure.\n",
      "- Source: [McKinsey](https://www.mckinsey.com/industries/healthcare/our-insights/generative-ai-in-healthcare-current-trends-and-future-outlook)\n",
      "\n",
      "## 6. Automation of Routine Tasks\n",
      "- Generative AI can automate routine tasks such as data entry, appointment scheduling, and insurance claims processing.\n",
      "- This can significantly reduce the time taken to process claims and minimize errors.\n",
      "- Source: [Implementation Science](https://implementationscience.biomedcentral.com/articles/10.1186/s13012-024-01357-9)\u001b[0m\n",
      "\n",
      "\u001b[1m> Finished chain.\u001b[0m\n"
     ]
    }
   ],
   "source": [
    "# Your prompt here\n",
    "prompt_1 = \"\"\"Provide a detailed, well-structured Markdown report summarizing the latest advancements in generative AI applied to healcare in 2025.\n",
    "Use headings for each relevante latest advancement, bullet points for key updates, and include relevant source URLs in Markdown link format.\n",
    "Format it for easy reading and professional presentation\"\"\"\n",
    "\n",
    "# Run it\n",
    "response_1 = agent.run(prompt_1)\n"
   ]
  },
  {
   "cell_type": "code",
   "execution_count": 3,
   "id": "0c70b057",
   "metadata": {},
   "outputs": [
    {
     "data": {
      "text/markdown": [
       "# Latest Advancements in Generative AI Applied to Healthcare in 2025\n",
       "\n",
       "## 1. Major Breakthroughs in Personalized Medicine, Synthetic Data Generation, and AI-Driven Diagnostics\n",
       "- Transition to full-scale adoption of generative AI in healthcare with stricter regulations ensuring ethical AI deployment.\n",
       "- Potential to revolutionize patient care, drug development, and medical research.\n",
       "- Source: [John Snow Labs](https://www.johnsnowlabs.com/generative-ai-healthcare/)\n",
       "\n",
       "## 2. Greater Adoption of Multimodal AI Models\n",
       "- Shift from single-modality models to multimodal models capable of analyzing and generating text, images, genomics data, and real-time patient vitals simultaneously.\n",
       "- Significant improvement in diagnostics, clinical decision support, and medical imaging analysis.\n",
       "- Source: [John Snow Labs](https://www.johnsnowlabs.com/generative-ai-healthcare/)\n",
       "\n",
       "## 3. AI-Assisted Drug Discovery\n",
       "- Generative AI in 2025 will design novel drug compounds in real time.\n",
       "- AI-driven protein structure predictions and molecule generation will shorten the drug development lifecycle and improve treatment outcomes for complex diseases.\n",
       "- Source: [John Snow Labs](https://www.johnsnowlabs.com/generative-ai-healthcare/)\n",
       "\n",
       "## 4. Retrieval-Augmented Generation (RAG)\n",
       "- RAG is an AI framework that combines traditional vector database capabilities with Large Language Models (LLMs).\n",
       "- RAG allows the organization’s chatbot to produce better answers for staff in Q&A applications.\n",
       "- Source: [HealthTech Magazine](https://healthtechmagazine.net/article/2025/01/overview-2025-ai-trends-healthcare)\n",
       "\n",
       "## 5. Administrative Efficiency and Clinical Productivity\n",
       "- Generative AI's greatest source of potential could be in improving administrative efficiency and clinical productivity.\n",
       "- Many respondents also recognize opportunities in patient or member engagement and IT or infrastructure.\n",
       "- Source: [McKinsey](https://www.mckinsey.com/industries/healthcare/our-insights/generative-ai-in-healthcare-current-trends-and-future-outlook)\n",
       "\n",
       "## 6. Automation of Routine Tasks\n",
       "- Generative AI can automate routine tasks such as data entry, appointment scheduling, and insurance claims processing.\n",
       "- This can significantly reduce the time taken to process claims and minimize errors.\n",
       "- Source: [Implementation Science](https://implementationscience.biomedcentral.com/articles/10.1186/s13012-024-01357-9)"
      ],
      "text/plain": [
       "<IPython.core.display.Markdown object>"
      ]
     },
     "metadata": {},
     "output_type": "display_data"
    }
   ],
   "source": [
    "display(Markdown(response_1))\n"
   ]
  },
  {
   "cell_type": "code",
   "execution_count": 5,
   "id": "23c14e1a",
   "metadata": {},
   "outputs": [
    {
     "name": "stdout",
     "output_type": "stream",
     "text": [
      "\n",
      "\n",
      "\u001b[1m> Entering new AgentExecutor chain...\u001b[0m\n",
      "\u001b[32;1m\u001b[1;3mI need to find the latest advancements in generative AI applied to healthcare in 2025. I will use the TavilySafeSearch tool to find this information. I will then structure the information in a Markdown report format, with clear headings for each major advancement, bullet points with key details, and relevant source URLs. \n",
      "\n",
      "Action: TavilySafeSearch\n",
      "Action Input: \"latest advancements in generative AI applied to healthcare in 2025\"\u001b[0m\n",
      "Observation: \u001b[36;1m\u001b[1;3m[{'title': 'The Future of Generative AI: Trends to Watch in 2025 and ...', 'url': 'https://www.eimt.edu.eu/the-future-of-generative-ai-trends-to-watch-in-2025-and-beyond', 'content': 'Personalisation is at the heart of generative AI in 2025. AI is tailoring content, recommendations and services to individual user preferences in real time. Take for example - personalized AI recommendations for ecommerce. Users receive dynamically generated product pages with specifically designed images and copy. In healthcare, treatment plans are generated based on a patient’s unique genetic and behavioral data. With feedback coming in real time and some clever learning behind the scenes, [...] Generative AI forms the backbone of hyper-personalised experiences. By 2025, enterprises will be deploying AI in the content generation of products and services to meet individual preferences at an unprecedented scale. Imagine e-commerce platforms generating a unique product description and image, or even a virtual try-on experience, for each user. AI tools in healthcare develop personalised treatment plans based on patient data, while procedurally generated worlds in gaming adapt to a player’s [...] Training AI models with real-world data often involves privacy risks and scarcity issues. In response, synthetic data generated by AI is becoming mainstream in 2025. It is used in autonomous vehicle testing, finance modeling and healthcare diagnostics. Generative AI simulates edge cases and realistic environments, creating safe and controlled datasets. This enhances accuracy, protects privacy and opens up AI capabilities for industries constrained by data regulations.', 'score': 0.8533396}, {'title': 'Upper Bound 2025 highlights how AI is revolutionizing ...', 'url': 'https://www.amii.ca/updates-insights/upper-bound-2025-highlights-how-ai-is-revolutionizing-healthcarefrom-drug-discovery-to-dentistry', 'content': 'Many sessions explored how machine learning is transforming the way that healthcare works, offering new tools for medical professionals and better outcomes for their patients.\\n\\n## Upper Bound 2025 AI in Healthcare\\n\\nKey Takeaways\\n\\n### Generative AI offers potential in drug discovery\\n\\nGenerative AI helps predict which new molecules will be safe and effective.\\n\\nMakes discovering new drugs faster and more cost-effective. [...] To ensure safe use of generative AI in healthcare, Jeevanshi proposed several solutions. These include explainable AI systems that cite their sources and human-in-the-loop approaches where human experts validate AI models. She emphasized four crucial pillars for safe generative AI use in drug discovery: Transparency, Validation, Good Governance Practices, and Training.\\n\\n### Cutting Edge AI Advances in Healthcare and the Future of AI In Health [...] Creative approaches in the field, like using AI to analyze drawings to predict dental anxiety in young patients.\\n\\n### Generative AI in Healthcare\\n\\nIn her session, “Generative AI in Healthcare”, AI/ML engineer Jeevanshi Sharma laid out how generative AI could help tackle one of medicine’s most challenging problems: discovering effective new medications.', 'score': 0.83290404}, {'title': 'An Overview of 2025 AI Trends in Healthcare - HealthTech Magazine', 'url': 'https://healthtechmagazine.net/article/2025/01/overview-2025-ai-trends-healthcare', 'content': 'Some healthcare organizations are beginning to experiment with retrieval-augmented generation. RAG is an AI framework that combines traditional vector database capabilities with LLMs. In other words, users get the benefits of a generative AI-powered chatbot that can access an organization’s more accurate and recent data.\\n\\nRAG allows the organization’s chatbot to produce better answers for staff in Q&A applications. This reduces some of the pitfalls of using generative AI tools. [...] It’s been more than two years since ChatGPT was first released, and during that time artificial intelligence has become synonymous with generative AI. When most people discuss AI, they’re usually referring to large language models (LLMs) and related chatbots. That’s how big of an impact generative AI had across industries — as well as everyday people around the world — and healthcare is no exception. [...] Once healthcare organizations are ready to move to the next step of AI implementation, it can be helpful to collaborate with a technology partner that has experience in the realm. CDW offers data workshops to help healthcare organizations prepare their data for AI. We also offer strategy engagements for modern data platforms and deploying generative AI.', 'score': 0.8184036}, {'title': 'Generative AI to Reshape the Future of Health Care | Deloitte US', 'url': 'https://www.deloitte.com/us/en/Industries/life-sciences-health-care/articles/generative-ai-in-healthcare.html', 'content': '© 2025. See Terms of Use for more information. [...] #### What we do\\n\\n#### Our thinking\\n\\n#### Careers\\n\\n##### Follow us\\n\\n#### \\n\\n© 2025. See Terms of Use for more information. [...] In recent years, natural language processing and machine learning have found applications in various health care use cases, but new Generative AI models are taking health care technology to new heights. These models demonstrate unprecedented capabilities in natural language generation, summarization, translation, insight retrieval, reasoning, and managing unstructured, unlabeled data. Generative AI technology has the potential to democratize knowledge, increase interoperability, accelerate', 'score': 0.7361925}, {'title': '2025 Watch List: Artificial Intelligence in Health Care', 'url': 'https://www.ncbi.nlm.nih.gov/books/NBK613808/', 'content': '(e.g., Overjet Image Enhancement Assist), cardiology (e.g., EchoGo Heart Failure 2.0), neurology (e.g., BrainSee), hematology (e.g., AI-4510 Urine Particle Analysis System), and gastroenterology and urology (e.g., EndoScreener).64 [...] the time frame of this project, a category of AI technology emerged that was not considered by our workshop participants: AI agents (sometimes known as autonomous AI). AI agents are significant advancements in AI because they work independently to carry out tasks on behalf of a user. AI agents are beginning to appear in several categories on the 2025 Watch List, from notetaking to clinical training and education to disease detection and diagnosis. We acknowledge that the research and [...] development of AI agents are progressing rapidly, and the implementation of AI agents must consider the issues outlined in the 2025 Watch List.', 'score': 0.6934942}]\u001b[0m\n",
      "Thought:\u001b[32;1m\u001b[1;3mBased on the search results, there are several advancements in generative AI applied to healthcare in 2025. These include personalization of treatment plans, use of synthetic data, potential in drug discovery, retrieval-augmented generation (RAG), and the emergence of AI agents. I will now structure this information into a Markdown report. \n",
      "\n",
      "Final Answer: \n",
      "\n",
      "# Latest Advancements in Generative AI Applied to Healthcare in 2025\n",
      "\n",
      "## Personalization of Treatment Plans\n",
      "- AI is tailoring content, recommendations, and services to individual user preferences in real time.\n",
      "- Treatment plans are generated based on a patient’s unique genetic and behavioral data.\n",
      "- This enhances the patient experience and improves treatment outcomes.\n",
      "- Source: [EIMT](https://www.eimt.edu.eu/the-future-of-generative-ai-trends-to-watch-in-2025-and-beyond)\n",
      "\n",
      "## Use of Synthetic Data\n",
      "- Synthetic data generated by AI is becoming mainstream in 2025.\n",
      "- It is used in healthcare diagnostics.\n",
      "- Generative AI simulates edge cases and realistic environments, creating safe and controlled datasets.\n",
      "- This enhances accuracy, protects privacy, and opens up AI capabilities for industries constrained by data regulations.\n",
      "- Source: [EIMT](https://www.eimt.edu.eu/the-future-of-generative-ai-trends-to-watch-in-2025-and-beyond)\n",
      "\n",
      "## Potential in Drug Discovery\n",
      "- Generative AI helps predict which new molecules will be safe and effective.\n",
      "- Makes discovering new drugs faster and more cost-effective.\n",
      "- To ensure safe use of generative AI in healthcare, solutions include explainable AI systems and human-in-the-loop approaches.\n",
      "- Source: [Amii](https://www.amii.ca/updates-insights/upper-bound-2025-highlights-how-ai-is-revolutionizing-healthcarefrom-drug-discovery-to-dentistry)\n",
      "\n",
      "## Retrieval-Augmented Generation (RAG)\n",
      "- RAG is an AI framework that combines traditional vector database capabilities with LLMs.\n",
      "- RAG allows the organization’s chatbot to produce better answers for staff in Q&A applications.\n",
      "- Source: [HealthTech Magazine](https://healthtechmagazine.net/article/2025/01/overview-2025-ai-trends-healthcare)\n",
      "\n",
      "## Emergence of AI Agents\n",
      "- AI agents work independently to carry out tasks on behalf of a user.\n",
      "- AI agents are beginning to appear in several categories from notetaking to clinical training and education to disease detection and diagnosis.\n",
      "- Source: [NCBI](https://www.ncbi.nlm.nih.gov/books/NBK613808/)\u001b[0m\n",
      "\n",
      "\u001b[1m> Finished chain.\u001b[0m\n"
     ]
    }
   ],
   "source": [
    "prompt_1_1 = \"\"\"\n",
    "You are a research assistant specialized in healthcare and AI. \n",
    "Your task is to provide a **comprehensive, structured Markdown report** on the **latest advancements in generative AI applied to healthcare in 2025**.\n",
    "\n",
    "Guidelines:\n",
    "- Use clear **headings (##)** for each major advancement.\n",
    "- Provide **bullet points** under each heading with key details (applications, impact, limitations, adoption).\n",
    "- Always include **relevant source URLs** in [Markdown link](URL) format for each advancement.\n",
    "- The tone must be **professional, concise, and easy to read**.\n",
    "- Focus only on **developments from 2025** (ignore outdated information).\n",
    "\"\"\"\n",
    "\n",
    "# Run it\n",
    "response_1_1 = agent.run(prompt_1_1)\n"
   ]
  },
  {
   "cell_type": "code",
   "execution_count": 6,
   "id": "dacaec0c",
   "metadata": {},
   "outputs": [
    {
     "data": {
      "text/markdown": [
       "# Latest Advancements in Generative AI Applied to Healthcare in 2025\n",
       "\n",
       "## Personalization of Treatment Plans\n",
       "- AI is tailoring content, recommendations, and services to individual user preferences in real time.\n",
       "- Treatment plans are generated based on a patient’s unique genetic and behavioral data.\n",
       "- This enhances the patient experience and improves treatment outcomes.\n",
       "- Source: [EIMT](https://www.eimt.edu.eu/the-future-of-generative-ai-trends-to-watch-in-2025-and-beyond)\n",
       "\n",
       "## Use of Synthetic Data\n",
       "- Synthetic data generated by AI is becoming mainstream in 2025.\n",
       "- It is used in healthcare diagnostics.\n",
       "- Generative AI simulates edge cases and realistic environments, creating safe and controlled datasets.\n",
       "- This enhances accuracy, protects privacy, and opens up AI capabilities for industries constrained by data regulations.\n",
       "- Source: [EIMT](https://www.eimt.edu.eu/the-future-of-generative-ai-trends-to-watch-in-2025-and-beyond)\n",
       "\n",
       "## Potential in Drug Discovery\n",
       "- Generative AI helps predict which new molecules will be safe and effective.\n",
       "- Makes discovering new drugs faster and more cost-effective.\n",
       "- To ensure safe use of generative AI in healthcare, solutions include explainable AI systems and human-in-the-loop approaches.\n",
       "- Source: [Amii](https://www.amii.ca/updates-insights/upper-bound-2025-highlights-how-ai-is-revolutionizing-healthcarefrom-drug-discovery-to-dentistry)\n",
       "\n",
       "## Retrieval-Augmented Generation (RAG)\n",
       "- RAG is an AI framework that combines traditional vector database capabilities with LLMs.\n",
       "- RAG allows the organization’s chatbot to produce better answers for staff in Q&A applications.\n",
       "- Source: [HealthTech Magazine](https://healthtechmagazine.net/article/2025/01/overview-2025-ai-trends-healthcare)\n",
       "\n",
       "## Emergence of AI Agents\n",
       "- AI agents work independently to carry out tasks on behalf of a user.\n",
       "- AI agents are beginning to appear in several categories from notetaking to clinical training and education to disease detection and diagnosis.\n",
       "- Source: [NCBI](https://www.ncbi.nlm.nih.gov/books/NBK613808/)"
      ],
      "text/plain": [
       "<IPython.core.display.Markdown object>"
      ]
     },
     "metadata": {},
     "output_type": "display_data"
    }
   ],
   "source": [
    "display(Markdown(response_1_1))"
   ]
  },
  {
   "cell_type": "markdown",
   "id": "3eab2627",
   "metadata": {},
   "source": [
    "### Exercise 2: AI Startups Landscape\n",
    "\n",
    "Goal: Track 2025’s top emerging AI startups and their innovations.\n",
    "\n",
    "- Create a prompt that instructs the agent to deliver a clean Markdown summary.\n",
    "- Tip: Ask for company names, product highlights, and sources."
   ]
  },
  {
   "cell_type": "code",
   "execution_count": 9,
   "id": "2109cbad",
   "metadata": {},
   "outputs": [
    {
     "name": "stdout",
     "output_type": "stream",
     "text": [
      "\n",
      "\n",
      "\u001b[1m> Entering new AgentExecutor chain...\u001b[0m\n",
      "\u001b[32;1m\u001b[1;3mI need to find information about the top 3 emerging AI startups of 2025 and their innovations. I will use the TavilySafeSearch tool to find this information.\n",
      "Action: TavilySafeSearch\n",
      "Action Input: Top 3 emerging AI startups of 2025\u001b[0m\n",
      "Observation: \u001b[36;1m\u001b[1;3m[{'title': 'Ranking the 25 Top Venture-Backed Artificial Intelligence (AI ...', 'url': 'https://greenflagdigital.com/research/ranking-top-ai-companies-2025/', 'content': 'GFD’s Tech100 score is a final composite score of the Funding Score, Website Score, and the Branded Keyword score.\\n\\nKey Takeaways:\\n\\n   The three hottest AI firms in July 2025 are OpenAI, xAI, and Coreweave due to the volume and freshness of their funding, the recent performance of their website, and the growth trends of their branded keyword.\\n\\nRanking the Top Startups by Funding Score [...] AI companies like OpenAI, Anthropic, xAI, NVIDIA, and Meta are dominating the headlines in 2025. It feels like in the business and tech press, everything is about AI.\\n\\nWe know that ChatGPT dominates consumer mindshare for branding, and has been a runaway success since their November 2022 ChatGPT launch. Claude has been hot with developers using Claude Code, but gets very little consumer adoption when looking at the whole population. [...] When accounting for funding volume and freshness, OpenAI leads the industry as it is the AI company with the highest total funding and has recently this year received a staggering funding amount of $40B.\\n   In July 2025, xAI and Coreweave each received over $1B of funding.\\n   Prominent companies like Anduril Industries and Meta have applied AI to their business models and remain hot in funding.\\n\\n1. OpenAI\\n\\nFunding Score: 100.0\\n\\nTotal Funding Amount: $61.91B', 'score': 0.9393874}, {'title': 'Top AI Startups in 2025 - StartupBlink', 'url': 'https://www.startupblink.com/blog/top-ai-startups/', 'content': 'OpenAI continues to be one of the most dominant AI companies globally in 2025. Based in San Francisco, it remains at the forefront of artificial intelligence development thanks to its widely adopted GPT models and integrations across Microsoft products. While ByteDance remains highly valued and influential, OpenAI’s central role in shaping the AI ecosystem has only grown, reinforcing its position as the most influential AI-first startup in the world today. [...] ### 4. Bytedance\\n\\nSB Score: 768\\n\\nLocation: Beijing, China\\n\\nByteDance is a global technology company best known for developing TikTok and its Chinese counterpart Douyin, both powered by advanced AI-driven recommendation algorithms. Founded in 2012, the company has since evolved into one of the world’s most valuable startups, leveraging artificial intelligence across content discovery, personalization, and user engagement. [...] Beyond entertainment, ByteDance has expanded its AI capabilities into productivity tools, education platforms, and enterprise software. Its AI research arm has made significant contributions to natural language processing, computer vision, and deep learning. With a strong presence in both consumer and enterprise markets, ByteDance continues to be a key player in shaping the future of AI-powered digital ecosystems.\\n\\n### 5. Mistral AI\\n\\nSB Score: 742\\n\\nLocation: Paris, France', 'score': 0.92442214}, {'title': '60 Growing AI Companies & Startups (2025) - Exploding Topics', 'url': 'https://explodingtopics.com/blog/ai-startups', 'content': \"Location: Littleton, CO\\n\\nFunding: $4.8M (Seed)\\n\\nWhat they do: Luxonis is a technology company that builds spatial AI and advanced computer vision hardware and software. This startup focuses on three product lines: OAK Cameras, OAK Modules, and RobotHub. One of the startup's top-selling products is the Oak-D Robotics Camera.\", 'score': 0.86136365}, {'title': '18 AI Startups to Watch in 2025 - Backlinko', 'url': 'https://backlinko.com/ai-startups', 'content': 'Artificial intelligence has become one of the key technologies reshaping the way we search for information, work with automating repetitive tasks, study with AI-powered tutors, and more.\\n\\nAI remains one of the dominant themes of venture capital investing and millions of users engage regularly with a growing number of AI apps.\\n\\nHere’s a curated list of 18 growing AI startups to look out for in 2025.\\n\\nLet’s dive right in!\\n\\n## 1. VEED\\n\\nWebsite: \\n\\nYear founded: 2018\\n\\nHQ: London, United Kingdom [...] Description: Codeium offers “ChatGPT for developers”, an AI tool that provides developers with autocomplete code suggestions, and answers code-related questions via chat functionality. AI startup Codeium reached a $1.25 billion valuation after securing $150 million in Series C funding in August 2024.\\n\\n## 5. Suno\\n\\nWebsite: \\n\\nYear founded: 2022\\n\\nHQ: Cambridge, Massachusetts\\n\\nUsers: 12 million\\n\\nFunding: $125 million [...] Description: Fliki is an AI text-to-video platform that generates video content at scale from text scripts or idea prompts in minutes. The startup specializes in social media videos suitable for various platforms, including Instagram Reels and TikTok.\\n\\n## 3. PhotoRoom\\n\\nWebsite: \\n\\nYear founded: 2019\\n\\nHQ: Paris, France\\n\\nUsers: Not publicly disclosed\\n\\nFunding: $64 million', 'score': 0.83742094}, {'title': 'Forbes 2025 AI 50 List - Top Artificial Intelligence Companies Ranked', 'url': 'https://www.forbes.com/lists/ai50/', 'content': 'valuation of about $9 billion. Meanwhile, Fei Fei Li, known as the “godmother of AI”, has launched her own startup too, World Labs ($291.5 million raised), to develop models that can understand physical spaces. And then there’s enterprise AI company Writer ($326 million raised), which is training its own models to handle mundane business tasks like writing marketing blogs and searching through troves of documents. (Read our feature story on Writer here.)   Artificial intelligence companies [...] , a three year-old AI startup that helps engineers write and edit code and has at least $100 million in annualized revenue; the $1 billion-valued AI language tutor app Speak, which is used by some 10 million people to learn English and Spanish; and Massachusetts-based unicorn OpenEvidence, which is building an AI-powered search platform that summarizes medical information for doctors.   Model builders like OpenAI and Anthropic remain the biggest companies on the list, having raised large sums [...] through the courts. Multiple startups on the list, including OpenAI and Anthropic, have been sued for allegedly training their AI models on millions of copyrighted works of art and intellectual property. Meanwhile, a growing group of publishers, artists, musicians and authors have expressed concerns that AI companies have illegally scraped their data from the internet to create tools that then compete with them, posing a threat to their livelihoods. Image and video generation tools like Runway', 'score': 0.82994765}]\u001b[0m\n",
      "Thought:\u001b[32;1m\u001b[1;3mBased on the search results, the top 3 emerging AI startups of 2025 are OpenAI, xAI, and Coreweave. I will now search for more detailed information about each of these startups and their innovations.\n",
      "Action: TavilySafeSearch\n",
      "Action Input: OpenAI startup 2025\u001b[0m\n",
      "Observation: \u001b[36;1m\u001b[1;3m[{'title': 'OpenAI: Latest news and insights - Computerworld', 'url': 'https://www.computerworld.com/article/4015023/openai-latest-news-and-insights.html', 'content': 'May 30, 2025: OpenAI’s most advanced AI models are showing a disturbing new behavior: they are refusing to obey direct human commands to shut down, actively sabotaging the very mechanisms designed to turn them off.\\n\\n### Jony Ive and OpenAI plan ‘bicycles’ for 21st-century minds\\n\\nMay 21, 2025: OpenAI has announced that it will purchase io, the AI startup founded by acclaimed former Apple designer Sir Jony Ive, who helped create the iMac, iPod, and iPhone. [...] ### Google snatches Windsurf execs in a $2.4B deal, derailing OpenAI’s biggest acquisition yet\\n\\nJuly 14, 2025: Google has recruited CEO Varun Mohan and co-founder Douglas Chen of AI coding startup Windsurf in a $2.4 billion talent acquisition deal, just two months after Windsurf agreed to be acquired by OpenAI for $3 billion. Mohan, Chen and select research and development staff, will join Google’s DeepMind AI division\\n\\n### OpenAI and Perplexity enter browser wars to take on Chrome [...] April 10, 2025: OpenAI has filed a countersuit against Elon Musk, accusing the billionaire of a sustained campaign to damage the company and urging a US federal court to block further actions it described as unlawful and disruptive. The legal filing, submitted in a California district court, marks the latest escalation in a dispute between Musk and the AI startup he helped establish in 2015.\\n\\n### Senators probe Google-Anthropic, Microsoft-OpenAI deals over antitrust concerns', 'score': 0.8708723}, {'title': 'OpenAI announces AI-powered hiring platform to take on LinkedIn', 'url': 'https://techcrunch.com/2025/09/04/openai-announces-ai-powered-hiring-platform-to-take-on-linkedin/', 'content': \"Published Time: 2025-09-04T19:19:46+00:00\\n\\nOpenAI announces AI-powered hiring platform to take on LinkedIn | TechCrunch\\n\\nFeel like you're still behind?\\n\\nWe get it, it's impossible to keep up. Unless you were getting our daily newsletter all week long.\\n\\nI WANT TO KEEP UP!\\n\\nI'd rather not be informed.\\n\\nSkip to content\\n\\nImage 1TechCrunch Desktop LogoImage 2TechCrunch Mobile Logo\\n\\n   Latest\\n   Startups\\n   Venture\\n   Apple\\n   Security\\n   AI\\n   Apps\\n   Disrupt 2025 [...] OpenAI also says it will start offering certifications for people with different levels of “AI fluency” through its OpenAI Academy, an online program the company launched last year. An OpenAI spokesperson says the company plans to launch a pilot of OpenAI Certifications in late 2025. [...] #### Netflix, ElevenLabs, Wayve, Sequoia Capital — just a few of the heavy hitters joining the Disrupt 2025 agenda. They’re here to deliver the insights that fuel startup growth and sharpen your edge. Don’t miss the 20th anniversary of TechCrunch Disrupt, and a chance to learn from the top voices in tech — grab your ticket now and save up to $675 before prices rise.\\n\\nSan Francisco|October 27-29, 2025\\n\\nREGISTER NOW\", 'score': 0.6877354}, {'title': 'ChatGPT — Release Notes - OpenAI Help Center', 'url': 'https://help.openai.com/en/articles/6825453-chatgpt-release-notes', 'content': \"Upload files and access model selector on mobile\\n\\nLearn more about projects.\\n\\nMemory improvements are available for Plus and Pro users.\\n\\nJune 10, 2025\\n\\nToday, we're launching OpenAI o3-pro—available now for Pro users in ChatGPT and in our API. [...] ChatGPT record mode\\n\\nCapture meetings, brainstorms, or voice notes. Launching today for Pro, Enterprise, and Edu users. Previously launched for Team users on June 4, 2025.\\n\\n   ChatGPT will transcribe, summarize, and turn them into helpful outputs like follow-ups, plans, or even code.\\n\\n   Available on the macOS desktop app only.\\n\\nLearn more aboutChatGPT Record.\\n\\nJune 16, 2025\\n\\nExpanded Model Support for Custom GPTs [...] 4.   iOS performance fixes.\\n\\n5.   Updated launch animations and composer design on Android.\\n\\n6.   Whisper (ChatGPT's voice-to-text feature) now shows a text preview of dictated text after recording:\\n\\nImage 18\\n\\nCanvas sharing (February 6, 2025)\\n\\nUsers can now share a Canvas asset such as rendered React/HTML code, document, or code with another user, similar to how you share a conversation. You can do this from the Canvas toolbar when Canvas is open.\\n\\nImage 19\", 'score': 0.66229486}, {'title': 'OpenAI for Startups', 'url': 'https://openai.com/startups/', 'content': '(opens in a new window)(opens in a new window)(opens in a new window)(opens in a new window)(opens in a new window)(opens in a new window)(opens in a new window)\\n\\nOpenAI © 2015–2025 Manage Cookies\\n\\nEnglish United States [...] ### Build Hours | September 3, 10 am PT, Online See Codex in action across real-world engineering tasks: live-coded demos, startup-built agents, and faster ways to ship. Tune in\\n\\n### DevDay 2025 | October 6, Online Join the livestream for live product announcements and demos. Tune in\\n\\n#### Be the first to know about upcoming events\\n\\nGet on the list\\n\\nLearn from founders bringing bold ideas to life.\\n\\nImage 12: BlueJ > Cover Image\\n\\nScaling domain expertise in complex, regulated domains', 'score': 0.64773196}, {'title': \"OpenAI reorganizes research team behind ChatGPT's personality\", 'url': 'https://techcrunch.com/2025/09/05/openai-reorganizes-research-team-behind-chatgpts-personality/', 'content': \"#### Netflix, ElevenLabs, Wayve, Sequoia Capital — just a few of the heavy hitters joining the Disrupt 2025 agenda. They’re here to deliver the insights that fuel startup growth and sharpen your edge. Don’t miss the 20th anniversary of TechCrunch Disrupt, and a chance to learn from the top voices in tech — grab your ticket now and save up to $675 before prices rise.\\n\\nSan Francisco\\n|\\nOctober 27-29, 2025\\n\\nREGISTER NOW [...] ### Tech and VC heavyweights join the Disrupt 2025 agenda\\n\\n#### Netflix, ElevenLabs, Wayve, Sequoia Capital, Elad Gil — just a few of the heavy hitters joining the Disrupt 2025 agenda. They’re here to deliver the insights that fuel startup growth and sharpen your edge. Don’t miss the 20th anniversary of TechCrunch Disrupt, and a chance to learn from the top voices in tech — grab your ticket now and save up to $600+ before prices rise.\\n\\n### Tech and VC heavyweights join the Disrupt 2025 agenda [...] Put your brand in front of 10,000+ tech and VC leaders across all three days of Disrupt 2025. Amplify your reach, spark real connections, and lead the innovation charge. Secure your exhibit space before your competitor does.  \\n  \\nLast day to book is September 5\\n\\nBook Your Table\\n\\n## Most Popular\\n\\n ### \\n\\n  OpenAI announces AI-powered hiring platform to take on LinkedIn\\n\\n  + Maxwell Zeff\\n ### \\n\\n  Tesla’s 4th ‘Master Plan’ reads like LLM-generated nonsense\\n\\n  + Sean O'Kane\\n ###\", 'score': 0.62303346}]\u001b[0m\n",
      "Thought:\u001b[32;1m\u001b[1;3mOpenAI is a dominant AI company that has been making headlines in 2025. Some of their key innovations include the development of advanced AI models, the acquisition of AI startup io, and the launch of an AI-powered hiring platform. They have also been involved in a legal dispute with Elon Musk, one of the company's co-founders. OpenAI has received a staggering amount of funding, with a total funding amount of $61.91B. The company is based in San Francisco and is known for its GPT models and integrations across Microsoft products. Their product, ChatGPT, has been a runaway success since its launch in November 2022. In 2025, OpenAI announced plans to offer certifications for different levels of \"AI fluency\" through its OpenAI Academy. They also launched OpenAI o3-pro for Pro users in ChatGPT and in their API. \n",
      "\n",
      "Now I will search for information about the second startup, xAI.\n",
      "Action: TavilySafeSearch\n",
      "Action Input: xAI startup 2025\u001b[0m\n",
      "Observation: \u001b[36;1m\u001b[1;3m[{'title': 'Top AI Startups in 2025', 'url': 'https://www.startupblink.com/blog/top-ai-startups/', 'content': 'Cloud). As of mid‑June 2025, xAI is negotiating a significant funding round— circa $4.3 billion in equity atop $5 billion in debt—at an estimated valuation of $80 billion, reinforcing its position among the most well-funded AI startups globally. [...] xAIis Elon Musk’s AI venture, launched in 2023 with the mission to build advanced “Grok” language models and push AI innovation. Its flagship model, Grok‑3, debuted in early 2025, showcasing advanced reasoning, multimodal input capabilities, and deep-search functions—all powered by its Colossus supercomputer built in Memphis. The company merged with Musk’s social platform X, leveraging real-time social data to enhance its models, and has since forged enterprise partnerships (like with Oracle [...] Image 8\\n\\n### 1. x.ai\\n\\nSB Score: 734\\n\\nLocation: New York, United States', 'score': 0.8925721}, {'title': 'xAI (company)', 'url': 'https://en.wikipedia.org/wiki/XAI_(company)', 'content': '30.   ^#cite_ref-32)Wiggers, Kyle (March 17, 2025). \"Elon Musk\\'s AI company, xAI, acquires a generative AI video startup\". _TechCrunch_. Retrieved March 17, 2025.\\n31.   ^#cite_ref-33)Zeff, Maxwell (March 29, 2025). \"Elon Musk says xAI acquired X\". _TechCrunch_. Retrieved March 31, 2025.\\n32.   ^#cite_ref-34)\"Musk\\'s xAI Startup Swallows Up X Social Network in Surprise Deal\". _Bloomberg_. March 28, 2025. [...] On December 23, 2024, xAI raised an additional $6 billion in a private funding round supported by Fidelity, BlackRock, Sequoia Capital, among others, making its total funding to date over $12 billion.(\\n\\nOn February 10, 2025, xAI and other investors made an offer to acquire OpenAI for $97.4 billion.(\\n\\nOn March 17, 2025, xAI acquired Hotshot, a startup working on AI-powered video generation tools.( [...] 9.   ^#cite_ref-11)Kay, Grace (February 12, 2025). \"XAI Is Ramping up Hiring in 2025, Workers Say\". _Business Insider_. Archived from the original on February 12, 2025.\\n10.   ^#cite_ref-OpenCorporates_12-0)\"X.AI Corp\". _OpenCorporates_. Archived from the original on August 5, 2023. Retrieved July 27, 2023.', 'score': 0.8464638}, {'title': \"Elon Musk's xAI plans Seattle hub with engineering jobs ...\", 'url': 'https://www.geekwire.com/2025/elon-musks-xai-plants-a-flag-in-seattle-with-engineering-jobs-paying-up-to-440k/', 'content': \"by Todd Bishop on September 6, 2025 at 4:25 pm September 6, 2025 at 4:50 pm\\n\\nShare \\n   Facebook\\n   X (Twitter)\\n   LinkedIn\\n   Email\\n\\nImage 2: Elon Musk in VAB\\n\\nElon Musk’s xAI startup is expanding to the Seattle region. (GeekWire File Photo / Kevin Lisota)\\n\\nHold on to your engineers, Amazon and Microsoft — Elon Musk’s AI startup is coming to town. [...] Published Time: 2025-09-06T23:25:32+00:00\\n\\nElon Musk's xAI plans Seattle hub with engineering jobs paying up to $440k – GeekWire [...] Studios\\n       GeekWire Studios: Let Us Tell Your Story\\n       ShopTalk 2025 powered by Amazon Ads\\n       Nebius at NVIDIA GTC 2025 sponsored by Nebius\\n       AWS Marketplace Seller Conference 2024 sponsored by AWS\\n       AWS Summit: New York Partner Spotlights sponsored by AWS\\n       Does Compute presented by Carnegie Mellon University\\n       Guide to re:Invent sponsored by AWS\\n       Innovate State\\n       Money Hacks presented by BECU\", 'score': 0.82560414}, {'title': \"Musk's xAI forays into agentic coding with new model | Reuters\", 'url': 'https://www.reuters.com/business/musks-xai-forays-into-agentic-coding-with-new-model-2025-08-28/', 'content': 'Published Time: 2025-08-28T19:32:18.571Z\\n\\nMusk\\'s xAI forays into agentic coding with new model | Reuters\\n\\nSkip to main content\\n\\nReport This Ad\\n\\nExclusive news, data and analytics for financial market professionals Learn more about Refinitiv\\n\\n - Elon Musk\\'s artificial intelligence startup, xAI, on Thursday released a new \"speedy and economical\" agentic coding model, marking its entry into a key focus area for AI companies. [...] All quotes delayed a minimum of 15 minutes. See here for a complete list of exchanges and delays.\\n\\n© 2025 Reuters. All rights reserved\\n\\nImage 19Image 20Image 21Image 22Image 23Image 24Image 25Image 26Image 27Image 28Image 29Image 30', 'score': 0.75421005}, {'title': '14 Best Explainable Artificial Intelligence Xai Startups ...', 'url': 'https://www.seedtable.com/best-explainable-artificial-intelligence-xai-startups', 'content': 'Explore 14 Best Explainable Artificial Intelligence Xai Startups to watch in 2025. Discover innovative companies, funding insights, and industry trends.\\n\\nImage 1: Seedtable logo\\n\\nMentioned on:\\n\\nImage 2: Logo WiredImage 3: Logo TechCrunchImage 4: TechCrunch\\n\\nFEATURED IN\\n\\nImage 5: Logo WiredImage 6: Logo TechCrunch\\n\\nStartups \\n\\nDiscover startups\\n\\nStartup Rankings\\n\\nDiscover the fastest growing tech startups around the world. [...] Discover the most active investors around the world \\n\\nBy Location\\n\\n   Europe\\n   UK\\n   France\\n   Germany\\n   Spain\\n\\n   See all\\n\\n  \\n\\nBy Industry\\n\\n   Fintech\\n   Crypto\\n   AI\\n   Health Tech\\n   Climate Tech\\n\\n   See all\\n\\n  \\n\\nBy Stage\\n\\n   Pre-Seed\\n   Seed\\n   Series A\\n   Series B\\n   Series C\\n   Series D\\n\\n  \\n\\nRaise\\n\\nSign Up\\n\\n14 Best Explainable Artificial Intelligence Xai Startups to Watch in 2025\\n\\n#### The Definitive Seedtable Ranking of Explainable Artificial Intelligence Xai Startups [...] The list encompasses 404 founders. 1863 executives. It includes data on 2267 professionals within these filtered companies.\\n\\nLast update to the database: Sep 2, 2025. See changelog.\\n\\nLocation: \\n\\nIndustry: \\n\\nTrack over 71,000 companies\\n\\n### Discover\\n\\n Fast-growing Global startups\\n\\nSeedtable uses technology and people to track over 71,000 companies to help you find the right ones to partner with.\\n\\nPricing + Sign up\\n\\nImage 8: Humanloop logo\\n\\n### Humanloop\\n\\n4\\n\\nFunding Rounds\\n\\n$5.3m\\n\\nMoney raised', 'score': 0.7327644}]\u001b[0m\n",
      "Thought:\u001b[32;1m\u001b[1;3mxAI is an AI venture launched by Elon Musk in 2023 with the mission to build advanced \"Grok\" language models and push AI innovation. Their flagship model, Grok-3, debuted in early 2025, showcasing advanced reasoning, multimodal input capabilities, and deep-search functions. This was all powered by its Colossus supercomputer built in Memphis. The company merged with Musk’s social platform X, leveraging real-time social data to enhance its models, and has since forged enterprise partnerships. As of mid-June 2025, xAI was negotiating a significant funding round of approximately $4.3 billion in equity atop $5 billion in debt, at an estimated valuation of $80 billion. In 2025, xAI also acquired Hotshot, a startup working on AI-powered video generation tools. They also released a new \"speedy and economical\" agentic coding model, marking its entry into a key focus area for AI companies. \n",
      "\n",
      "Now I will search for information about the third startup, Coreweave.\n",
      "Action: TavilySafeSearch\n",
      "Action Input: Coreweave startup 2025\u001b[0m\n",
      "Observation: \u001b[36;1m\u001b[1;3m[{'title': 'CoreWeave - Wikipedia', 'url': 'https://en.wikipedia.org/wiki/CoreWeave', 'content': 'In December 2024, Canadian AI startup Cohere announced plans to build a multi-billion data center built and operated by CoreWeave. CoreWeave announced in Jan. 2025 that two new data centers in the UK hosting Nvidia Hopper (Nvidia H200) GPUs were operational, after beginning development on both in 2024. 77% of 2024 revenue came from its top two clients, with Microsoft alone accounting for 62%. [...] In November 2024, CoreWeave closed a $650 million secondary share sale, with investors such as Jane Street, Magnetar Capital, Fidelity Management, and Macquarie Capital. Bloomberg reported in November 2024 that CoreWeave was planning a 2025 initial public offering, and had selected Morgan Stanley, Goldman Sachs, and JP Morgan Chase to manage. CoreWeave filed its Form S-1 in March 2025 and planned to list on the Nasdaq under the symbol \"CRWV\". According to the filing, Microsoft accounted for [...] 41. ^ \"The AI Hyperscaler for GPU Cloud Computing | CoreWeave\". www.coreweave.com. Retrieved May 17, 2025.\\n42. ^ Field, Hayden; Cnbc • • (March 10, 2025). \"OpenAI to pay CoreWeave $11.9 billion over five years for AI data centers, services\". NBC10 Philadelphia. Retrieved May 17, 2025.\\n43. ^ \"A.I. cloud startup CoreWeave to build $1 billion data center at Onyx\\'s NEST campus in Kenilworth – Real Estate NJ\". re-nj.com. Retrieved October 26, 2024.', 'score': 0.8506799}, {'title': 'News and Press Releases - CoreWeave', 'url': 'https://www.coreweave.com/newsroom', 'content': 'Feb 04, 2025 | 2 min readCoreWeave Announces Two Initial Data Centers In The UK Are Now Operational\\n\\nCoreWeave has launched two UK data centers, powered by NVIDIA H200 GPUs and Quantum-2 InfiniBand, marking a £1B investment to advance AI infrastructure.\\n\\nJan 13, 2025CoreWeave Appoints Sandy Venugopal as Chief Information Officer\\n\\nCoreWeave appointed Sandy Venugopal as Chief Information Officer to strengthen its IT strategy, security, and operations amid rapid AI cloud growth. [...] CoreWeave has acquired Weights & Biases to deliver the leading AI Cloud Platform—uniting compute and developer tools to accelerate AI innovation at scale.\\n\\nMay 05, 2025CoreWeave Launches NVIDIA GB200 Grace Blackwell Systems at Scale\\n\\nCoreWeave launches NVIDIA GB200 NVL72 systems, offering advanced AI infrastructure to clients like IBM, Cohere, and Mistral AI.\\n\\nApr 15, 2025 | 1 min readCoreWeave Achieves New Record-Breaking AI Inferencing Benchmark with NVIDIA GB200 Grace Blackwell Superchips [...] Mar 10, 2025 | 1 min readCoreWeave to Acquire Weights & Biases - Industry Leading AI Developer Platform for Building and Deploying AI Applications\\n\\nCoreWeave is acquiring AI developer platform Weights & Biases for ~$1.7B, integrating infrastructure and MLOps tools to streamline AI development ahead of its IPO.\\n\\nMar 04, 2025 | 2 min readCoreWeave Files Registration Statement for Proposed Initial Public Offering', 'score': 0.7730283}, {'title': 'CoreWeave acquires agent-training startup OpenPipe - TechCrunch', 'url': 'https://techcrunch.com/2025/09/03/coreweave-acquires-agent-training-startup-openpipe/', 'content': 'Maxwell Zeff is a senior reporter at TechCrunch specializing in AI. Previously with Gizmodo, Bloomberg, and MSNBC, Zeff has covered the rise of AI and the Silicon Valley Bank crisis. He is based in San Francisco. When not reporting, he can be found hiking, biking, and exploring the Bay Area’s food scene.\\n\\nYou can contact or verify outreach from Maxwell by emailing maxwell.zeff@techcrunch.com or via encrypted message at mzeff.88 on Signal.\\n\\nView Bio\\n\\nOctober 27-29, 2025\\n\\nSan Francisco [...] Put your brand in front of 10,000+ tech and VC leaders across all three days of Disrupt 2025. Amplify your reach, spark real connections, and lead the innovation charge. Secure your exhibit space before your competitor does.  \\n  \\nLast day to book is September 5\\n\\nBook Your Table\\n\\n## Most Popular\\n\\n ### \\n\\n  BMW, I am so breaking up with you\\n\\n  + Connie Loizos\\n ### \\n\\n  Homicide at Burning Man turns Silicon Valley’s desert playground into a crime scene\\n\\n  + Connie Loizos\\n ### [...] Skip to content\\n\\nAI\\n\\n# CoreWeave acquires agent-training startup OpenPipe\\n\\nMaxwell Zeff\\n\\nCoreWeave, which provides cloud servers to large companies training AI models, has struck an agreement to acquire OpenPipe, a two-year-old Y Combinator-backed startup that helps enterprises develop customized AI agents with reinforcement learning, the companies announced on Wednesday.', 'score': 0.7190094}, {'title': 'CoreWeave Becomes the First AI Cloud Provider to Offer NVIDIA ...', 'url': 'https://investors.coreweave.com/news/news-details/2025/CoreWeave-Becomes-the-First-AI-Cloud-Provider-to-Offer-NVIDIA-RTX-PRO-6000-Blackwell-GPU-at-Scale/default.aspx', 'content': \"CoreWeave continues to demonstrate its ability to be first to market with the world's latest and most advanced hardware solutions, giving customers unparalleled access to the next generation of compute infrastructure at unprecedented speed. Last year, the company was among the first to offer NVIDIA H200 GPUs and was the first AI cloud provider to make NVIDIA GB200 NVL72 systems generally available. In June 2025, CoreWeave, in collaboration with NVIDIA and IBM, submitted the largest-ever MLPerf® [...] Image 5: coreweave-logoImage 6: linkedin-logoImage 7: x-logo\\n\\n© 2025 CoreWeave. - All rights reserved\\n\\nPowered By Q4 Inc. 5.162.2.1(opens in new window)\\n\\n   Privacy Policy opens in new window \\n   |\\n   Terms of Service opens in new window \\n   |\\n   Site Map opens in new window\", 'score': 0.68140936}, {'title': 'CoreWeave Acquires Y Combinator Startup to Fuel Its AI Platform ...', 'url': 'https://www.inc.com/melissa-angell/coreweave-just-acquired-a-y-combinator-startup-to-fuel-its-ai-platform-expansion/91235012', 'content': 'The final deadline for the 2025 Inc. Best in Business Awards is Friday, September 12, at 11:59 p.m. PT. Apply now.\\n\\nTop Tech\\n\\nWeekly roundup of the latest in tech news\\n\\nPrivacy Policy\\n\\nThis site is protected by reCAPTCHA and the Google Privacy Policy and Terms of Service apply.\\n\\nPrivacy Policy [...] The acquisition adds to CoreWeave’s meteoric expansion as the hyperscaler expands its platform, builds out new data centers, and continues to fiercely compete in the A.I. race. (CoreWeave’s three-year growth rate clocked in at 5,896 percent at the end of 2024, landing it on No. 45 on this year’s Inc. 5000 list.) [...] CoreWeave, the AI-focused data center operator, announced on Wednesday that it inked an agreement to acquire OpenPipe, a startup specializing in training artificial intelligence agents.\\n\\nThe Seattle-backed OpenPipe, founded in 2023, works with companies to build out custom A.I. models. The company, which is backed by Y Combinator, snagged $6.7 million in funding in March 2024, and works with advisors from the likes of OpenAI and GitHub.', 'score': 0.6636041}]\u001b[0m\n",
      "Thought:\u001b[32;1m\u001b[1;3mCoreWeave is an AI-focused data center operator that has been expanding rapidly in 2025. They have launched two UK data centers, powered by NVIDIA H200 GPUs and Quantum-2 InfiniBand, marking a £1B investment to advance AI infrastructure. They have also appointed Sandy Venugopal as Chief Information Officer to strengthen its IT strategy, security, and operations amid rapid AI cloud growth. In 2025, CoreWeave acquired Weights & Biases, an AI developer platform, for approximately $1.7B, integrating infrastructure and MLOps tools to streamline AI development ahead of its IPO. They also acquired OpenPipe, a startup specializing in training artificial intelligence agents. CoreWeave has also announced plans to build a multi-billion data center built and operated by CoreWeave. In November 2024, CoreWeave closed a $650 million secondary share sale, with investors such as Jane Street, Magnetar Capital, Fidelity Management, and Macquarie Capital. They filed its Form S-1 in March 2025 and planned to list on the Nasdaq under the symbol \"CRWV\".\n",
      "\n",
      "Final Answer: \n",
      "\n",
      "## OpenAI\n",
      "- OpenAI is a dominant AI company based in San Francisco, known for its GPT models and integrations across Microsoft products.\n",
      "- Their product, ChatGPT, has been a runaway success since its launch in November 2022.\n",
      "- In 2025, OpenAI announced plans to offer certifications for different levels of \"AI fluency\" through its OpenAI Academy.\n",
      "- They also launched OpenAI o3-pro for Pro users in ChatGPT and in their API.\n",
      "- OpenAI has received a staggering amount of funding, with a total funding amount of $61.91B.\n",
      "- [Source](https://www.computerworld.com/article/4015023/openai-latest-news-and-insights.html)\n",
      "\n",
      "## xAI\n",
      "- xAI is an AI venture launched by Elon Musk in 2023 with the mission to build advanced \"Grok\" language models and push AI innovation.\n",
      "- Their flagship model, Grok-3, debuted in early 2025, showcasing advanced reasoning, multimodal input capabilities, and deep-search functions.\n",
      "- The company merged with Musk’s social platform X, leveraging real-time social data to enhance its models, and has since forged enterprise partnerships.\n",
      "- As of mid-June 2025, xAI was negotiating a significant funding round of approximately $4.3 billion in equity atop $5 billion in debt, at an estimated valuation of $80 billion.\n",
      "- In 2025, xAI also acquired Hotshot, a startup working on AI-powered video generation tools.\n",
      "- [Source](https://www.startupblink.com/blog/top-ai-startups/)\n",
      "\n",
      "## CoreWeave\n",
      "- CoreWeave is an AI-focused data center operator that has been expanding rapidly in 2025.\n",
      "- They have launched two UK\u001b[0m\n",
      "\n",
      "\u001b[1m> Finished chain.\u001b[0m\n"
     ]
    }
   ],
   "source": [
    "# Your prompt here\n",
    "prompt_2 = \"\"\"\n",
    "You are a research assistant specialized in AI Startups landscape. \n",
    "Your task is to provide a **top 3 startups emerging AI startups and their innovations, structured Markdown summary report**.\n",
    "\n",
    "Guidelines:\n",
    "- Use clear **headings (##)** for each AI startup in the top.\n",
    "- Provide **bullet points** under each heading with key details, including main product/service, innovative features, and funding or market impact if available.\n",
    "- Always include **relevant source URLs** in [Markdown link](URL) format for each AI startup.\n",
    "- The tone must be **professional, concise, and easy to read**.\n",
    "- Focus only on **top 3 emerging AI startups of 2025** (ignore outdated information).\n",
    "\"\"\"\n",
    "\n",
    "\n",
    "# Run it\n",
    "response_2 = agent.run(prompt_2)\n"
   ]
  },
  {
   "cell_type": "code",
   "execution_count": 10,
   "id": "6504bd84",
   "metadata": {},
   "outputs": [
    {
     "data": {
      "text/markdown": [
       "## OpenAI\n",
       "- OpenAI is a dominant AI company based in San Francisco, known for its GPT models and integrations across Microsoft products.\n",
       "- Their product, ChatGPT, has been a runaway success since its launch in November 2022.\n",
       "- In 2025, OpenAI announced plans to offer certifications for different levels of \"AI fluency\" through its OpenAI Academy.\n",
       "- They also launched OpenAI o3-pro for Pro users in ChatGPT and in their API.\n",
       "- OpenAI has received a staggering amount of funding, with a total funding amount of $61.91B.\n",
       "- [Source](https://www.computerworld.com/article/4015023/openai-latest-news-and-insights.html)\n",
       "\n",
       "## xAI\n",
       "- xAI is an AI venture launched by Elon Musk in 2023 with the mission to build advanced \"Grok\" language models and push AI innovation.\n",
       "- Their flagship model, Grok-3, debuted in early 2025, showcasing advanced reasoning, multimodal input capabilities, and deep-search functions.\n",
       "- The company merged with Musk’s social platform X, leveraging real-time social data to enhance its models, and has since forged enterprise partnerships.\n",
       "- As of mid-June 2025, xAI was negotiating a significant funding round of approximately $4.3 billion in equity atop $5 billion in debt, at an estimated valuation of $80 billion.\n",
       "- In 2025, xAI also acquired Hotshot, a startup working on AI-powered video generation tools.\n",
       "- [Source](https://www.startupblink.com/blog/top-ai-startups/)\n",
       "\n",
       "## CoreWeave\n",
       "- CoreWeave is an AI-focused data center operator that has been expanding rapidly in 2025.\n",
       "- They have launched two UK"
      ],
      "text/plain": [
       "<IPython.core.display.Markdown object>"
      ]
     },
     "metadata": {},
     "output_type": "display_data"
    }
   ],
   "source": [
    "display(Markdown(response_2))\n"
   ]
  },
  {
   "cell_type": "markdown",
   "id": "942b8fda",
   "metadata": {},
   "source": [
    "### Exercice 3: Compare Two Tech Products\n",
    "- **Prompt idea:** Compare the key features, pricing, and reviews of OpenAI’s ChatGPT Team and Anthropic’s Claude Pro.\n",
    "- Ensure the agent outputs a structured response in Markdown.\n",
    "\n",
    "\n"
   ]
  },
  {
   "cell_type": "code",
   "execution_count": 11,
   "id": "58ff7f14",
   "metadata": {},
   "outputs": [
    {
     "name": "stdout",
     "output_type": "stream",
     "text": [
      "\n",
      "\n",
      "\u001b[1m> Entering new AgentExecutor chain...\u001b[0m\n",
      "\u001b[32;1m\u001b[1;3mI need to gather information about OpenAI's ChatGPT Team and Anthropic's Claude Pro. I will use the TavilySafeSearch tool to find this information. I will start with OpenAI's ChatGPT Team.\n",
      "\n",
      "Action: TavilySafeSearch\n",
      "Action Input: OpenAI's ChatGPT Team features and pricing\u001b[0m\n",
      "Observation: \u001b[36;1m\u001b[1;3m[{'title': 'OpenAI Debuts ChatGPT Team Subscriptions - Marketing AI Institute', 'url': 'https://www.marketingaiinstitute.com/blog/chatgpt-team', 'content': 'The new tier is called ChatGPT Team. It provides a dedicated workspace for up to 149 people to use ChatGPT. It also has a range of features for team management. ChatGPT Team costs $30 per user per month, or $25 per user per month if billed annually.\\n\\nFor that price, you get features like:', 'score': 0.93511593}, {'title': 'ChatGPT Team Plan (2025): Full Features, Costs & Comparison', 'url': 'https://www.brainchat.ai/blog/chatgpt-team-plan', 'content': 'Price: $30/user per month (minimum of 2 seats)\\n Best For: Teams of 10+ employees, businesses needing enhanced collaboration tools\\n Key Features: Enhanced message limits, customizable ChatGPTs, robust security and privacy\\n Drawbacks: Minimum two-seat requirement, restricted to OpenAI models\\n Ideal Alternative: ChatGPT Plus ($20/month) for individuals or BrainChat.ai for teams at small and mid-sized businesses.\\n\\n\\u200d\\n\\n\\u200d\\n\\n### A Look Inside the ChatGPT Teams Plan [...] So, what exactly does the ChatGPT Team Plan offer? Whether you’re managing a small team or a larger enterprise, this plan was built with businesses in mind.\\n\\nThe price starts at $30 per user, per month, with a minimum of two seats (so it actually starts at $60 per month).\\n\\nIt’s designed for those who need AI-powered support across their organization—but the question is, is it worth the cost?\\n\\nLet’s break it down and see what this plan brings to the table.\\n\\n\\u200d\\n\\n\\u200d [...] However, for freelancers, small teams, or those just starting, the ChatGPT Plus Plan at $20 per month is still an excellent, cost-effective solution. Plus, with competitors offering flexible AI models and team pricing, it’s always worth exploring alternative options to see what suits your business best.\\n\\nUltimately, the choice depends on your organization’s size, AI needs, and budget. By weighing the pros and cons, you can find the perfect solution that matches your goals.\\n\\n\\u200d', 'score': 0.89324445}, {'title': 'What is ChatGPT Business? - OpenAI Help Center', 'url': 'https://help.openai.com/en/articles/8792828-what-is-chatgpt-team', 'content': 'ChatGPT Team adheres to our Business Terms and the privacy policies listed on the Enterprise Privacy page under ChatGPT Team FAQ. OpenAI won’t train on your workspace’s data.\\n\\nHow does the pricing work for ChatGPT Team?\\n\\nChatGPT Team is available for 2 or more users. You can purchase this subscription on an annual plan for $25/seat/mo or on a monthly plan priced at $30/seat/mo. Read more in our Managing Billing for ChatGPT Team help article.', 'score': 0.882276}, {'title': 'ChatGPT Teams Pricing: Complete Guide for 2025 - Unleash.so', 'url': 'https://www.unleash.so/post/chatgpt-teams-pricing-complete-guide-for-2025-better-alternatives', 'content': \"What's included in ChatGPT Teams pricing? The pricing includes GPT-4 access, higher message limits (100 per 3 hours), team workspace, admin console, early feature access, and data exclusion from training.\\n\\nHow does ChatGPT Teams pricing compare to ChatGPT Plus? ChatGPT Plus costs $20/month for individual use, while ChatGPT Teams costs $25-30/month but includes team collaboration features and admin controls. [...] Unleash provides a more comprehensive AI solution specifically designed for businesses that need more than basic chat functionality. While ChatGPT Teams pricing starts at $25/month per user, Unleash delivers enterprise-grade capabilities that address the core limitations businesses face with OpenAI's platform.\\n\\nKey advantages of Unleash vs ChatGPT Teams:\\n\\n### 1. Enterprise-Grade Security and Deployment Flexibility [...] Access to GPT-4 and GPT-4 Turbo models\\n Higher message limits (100 messages per 3 hours vs 40 for Plus)\\n Team workspace for collaboration\\n Admin console for user management\\n Early access to new features and models\\n Data exclusion from OpenAI model training\\n DALL-E 3 image generation capabilities\\n Advanced data analysis tools\\n Custom GPTs creation and sharing\\n\\nComplete ChatGPT pricing breakdown:\", 'score': 0.8706085}, {'title': 'Understanding ChatGPT Plus vs. ChatGPT Team Subscription', 'url': 'https://community.openai.com/t/understanding-chatgpt-plus-vs-chatgpt-team-subscription/649004', 'content': 'The ChatGPT Team subscription is designed for collaborative use by teams of two or more individuals, offering enhanced features for group productivity. In contrast, ChatGPT Plus is tailored for single users, focusing on personal use. The Team version can be likened to a “family plan” for ChatGPT, providing a shared space without training on your business data or private conversations. For detailed comparisons of the two plans, including specific features and pricing, refer to the OpenAI Pricing', 'score': 0.829285}]\u001b[0m\n",
      "Thought:\u001b[32;1m\u001b[1;3mI have found information about OpenAI's ChatGPT Team. Now I will gather information about Anthropic’s Claude Pro.\n",
      "\n",
      "Action: TavilySafeSearch\n",
      "Action Input: Anthropic’s Claude Pro features and pricing\u001b[0m\n",
      "Observation: \u001b[36;1m\u001b[1;3m[{'title': 'How much does Claude Pro cost? - CometAPI', 'url': 'https://www.cometapi.com/how-much-does-claude-pro-cost/', 'content': 'In summary, Claude Pro stands at $20 per month (or $17 under annual billing) and serves as a professional-grade AI assistant with enhanced limits, faster responses, and priority access to new features . Whether comparing against free tiers, competing services like ChatGPT Plus, or API-based billing, Claude Pro offers a predictable and competitive price point for users who rely on AI as a central component of their daily workflow. As Anthropic continues to refine its offerings—with innovations [...] Before diving into the details, here’s a concise overview of the cost and value proposition of Claude Pro. Anthropic offers Claude Pro at $20 per month when billed monthly, with a discounted rate of $17 per month if you opt for an annual subscription ($200 billed upfront) . Pricing may vary slightly by region due to exchange rates and tax policies . Compared to the free tier, Claude Pro unlocks higher daily message limits, faster response times, and early access to new model updates such as [...] ### What are the monthly and annual pricing options?\\n\\nThe official Anthropic pricing page lists Claude Pro at \\\\$17 per month when billed annually (totaling \\\\$200 per year) or \\\\$20 per month if paid month‑to‑month. This discounted annual rate equates to roughly \\\\$16.67 per month, rewarding users who commit for a full year.\\n\\n## Why Choose Claude Pro Over the Free Tier?\\n\\n### What Additional Features Are Included?', 'score': 0.9061314}, {'title': 'Pricing - Anthropic', 'url': 'https://www.anthropic.com/pricing', 'content': '# Pricing Pricing\\n\\nIndividualTeam & EnterpriseAPI\\n\\n ## Free\\n\\n  Try Claude\\n\\n  $0\\n\\n  Free for everyone\\n\\n  Try Claude\\n\\n  Try Claude\\n\\n  + Chat on web, iOS, Android, and on your desktop\\n  + Generate code and visualize data\\n  + Write, edit, and create content\\n  + Analyze text and images\\n  + Ability to search the web\\n  + Unlock more from Claude with desktop extensions\\n ## Pro\\n\\n  For everyday productivity\\n\\n  $17\\n\\n  Per month with annual subscription discount; $200 billed up front. $20 if billed monthly. [...] Per person billed monthly\\n\\n  Try Claude\\n\\n  Try Claude\\n\\n  ### Everything in Pro, plus:\\n\\n  + Choose 5x or 20x more usage per session than Pro\\\\\\n  + Higher output limits for all tasks\\n  + Early access to advanced Claude features\\n  + Priority access at high traffic times\\n\\nAdditional usage limits apply. Prices shown do not include applicable tax.\\n\\n ### Team\\n\\n  For collaboration across organizations\\n\\n  Create a Team plan\\n\\n  Create a Team plan\\n\\n  Standard seat\\n\\n  $25\\n\\n  Chat, projects, and more [...] Try Claude\\n\\n  Try Claude\\n\\n  ### Everything in Free, plus:\\n\\n  + More usage\\\\\\n  + Access Claude Code directly in your terminal\\n  + Access to unlimited Projects to organize chats and documents\\n  + Access to Research\\n  + Connect Google Workspace: email, calendar, and docs\\n  + Connect your everyday tools in just a few clicks \\u2028(with remote MCP servers)\\n  + Extended thinking for complex work\\n  + Ability to use more Claude models\\n ## Max\\n\\n  Get the most out of Claude\\n\\n  From $100', 'score': 0.88178825}, {'title': 'Introducing Claude Pro - Anthropic', 'url': 'https://www.anthropic.com/news/claude-pro', 'content': 'With Claude Pro, subscribers can now gain 5x more usage of our latest model, Claude 2, for a monthly price of $20 (US) or £18 (UK).  \\n  \\nThis means you can level up your productivity across a range of tasks, including summarizing research papers, querying contracts, and iterating further on coding projects—like this recent demo of building an interactive map.', 'score': 0.878825}, {'title': 'Claude Free vs Pro: Which Plan Shall You Pick in 2025? - Apidog', 'url': 'https://apidog.com/blog/claude-free-vs-pro/', 'content': '### Claude Pro Pricing\\n\\nClaude Pro is available as a monthly subscription. As of current information, it costs $20 per month when billed monthly, with a discount available for annual subscriptions ($17/month equivalent, billed upfront). (Pricing is subject to change, always check the official Anthropic pricing page).\\n\\n### Who is Claude Pro For?\\n\\nClaude Pro is the logical upgrade for: [...] | Features | Core Claude chat functionalities. | All free features plus model selector, early access to new features, Projects, and Knowledge Bases. |\\n| Context Window | Variable size, potentially smaller based on demand. | Significantly larger (200K+ tokens standard for paid plans), enabling work with much larger documents/conversations. |\\n| Cost | $0 | $20/month (or discounted annual rate). | [...] If you rely on Claude regularly for work or complex projects, frequently hit the free message cap, need priority access, require a larger context window for long documents/conversations, or want access to Pro features like model selection and Projects, then Claude Pro is likely worth the investment. The increased productivity and reliability can easily justify the $20 monthly cost for many professionals and power users.', 'score': 0.8674071}, {'title': 'Using Claude Code with your Pro or Max plan | Anthropic Help Center', 'url': 'https://support.anthropic.com/en/articles/11145838-using-claude-code-with-your-pro-or-max-plan', 'content': 'To read more about Pro plan usage limits, see About Claude’s Pro Plan Usage.\\n\\n   Pro ($20/month): Average users can send approximately 45 messages with Claude every five hours, OR send approximately 10-40 prompts with Claude Code every five hours. Most Pro users can expect 40-80 hours of Sonnet 4 within their weekly usage limits. [...] Max 20x ($200/month): Average users can send approximately 900 messages with Claude every five hours, OR send approximately 200-800 prompts with Claude Code every five hours. Most Max 20x users can expect 240-480 hours of Sonnet 4 and 24-40 hours of Opus 4 within their weekly usage limits.', 'score': 0.78846955}]\u001b[0m\n",
      "Thought:\u001b[32;1m\u001b[1;3mI have gathered information about both OpenAI's ChatGPT Team and Anthropic’s Claude Pro. Now I will structure this information into a Markdown comparison.\n",
      "\n",
      "Final Answer: \n",
      "\n",
      "## OpenAI's ChatGPT Team\n",
      "- Main features:\n",
      "  - Provides a dedicated workspace for up to 149 people to use ChatGPT.\n",
      "  - Enhanced message limits, customizable ChatGPTs, robust security and privacy.\n",
      "  - Team workspace for collaboration, admin console for user management, early access to new features and models, data exclusion from OpenAI model training.\n",
      "- Pricing:\n",
      "  - $30 per user per month, or $25 per user per month if billed annually.\n",
      "  - Minimum of 2 seats, so it actually starts at $60 per month.\n",
      "- User reviews or ratings: Not available in the search results.\n",
      "- [Source](https://www.marketingaiinstitute.com/blog/chatgpt-team)\n",
      "\n",
      "## Anthropic’s Claude Pro\n",
      "- Main features:\n",
      "  - Professional-grade AI assistant with enhanced limits, faster responses, and priority access to new features.\n",
      "  - Higher daily message limits, faster response times, and early access to new model updates.\n",
      "  - Access to unlimited Projects to organize chats and documents, extended thinking for complex work, ability to use more Claude models.\n",
      "- Pricing:\n",
      "  - $20 per month when billed monthly, with a discounted rate of $17 per month if you opt for an annual subscription ($200 billed upfront).\n",
      "- User reviews or ratings: Not available in the search results.\n",
      "- [Source](https://www.cometapi.com/how-much-does-claude-pro-cost/)\n",
      "\n",
      "## Notable Differences or Advantages\n",
      "- OpenAI's ChatGPT Team is designed for larger teams (up to 149 people), while Claude Pro seems to be more focused on individual productivity.\n",
      "- OpenAI's ChatGPT Team has a higher starting price due to its minimum two-seat requirement.\n",
      "- Claude Pro offers a predictable and competitive price point for users who rely on AI as a central component of their daily workflow.\n",
      "- Both products offer early access to new features and models, but Claude Pro also offers extended thinking for complex work and the ability to use more Claude models.\u001b[0m\n",
      "\n",
      "\u001b[1m> Finished chain.\u001b[0m\n"
     ]
    }
   ],
   "source": [
    "# Your prompt here\n",
    "prompt_3 = \"\"\"\n",
    "You are a research assistant specialized in AI technology products. \n",
    "Your task is to provide a **structured Markdown comparison** of OpenAI’s ChatGPT Team and Anthropic’s Claude Pro.\n",
    "\n",
    "Guidelines:\n",
    "- Use clear **headings (##)** for each product.\n",
    "- Provide **bullet points** under each heading for key details, including:\n",
    "  - Main features\n",
    "  - Pricing\n",
    "  - User reviews or ratings (if available)\n",
    "- Include **any notable differences or advantages** between the two products in a separate section.\n",
    "- Always include **relevant source URLs** in [Markdown link](URL) format.\n",
    "- Keep the tone **professional, concise, and easy to read**.\n",
    "\"\"\"\n",
    "\n",
    "# Run it\n",
    "response_3 = agent.run(prompt_3)\n"
   ]
  },
  {
   "cell_type": "code",
   "execution_count": 12,
   "id": "b8bf9711",
   "metadata": {},
   "outputs": [
    {
     "data": {
      "text/markdown": [
       "## OpenAI's ChatGPT Team\n",
       "- Main features:\n",
       "  - Provides a dedicated workspace for up to 149 people to use ChatGPT.\n",
       "  - Enhanced message limits, customizable ChatGPTs, robust security and privacy.\n",
       "  - Team workspace for collaboration, admin console for user management, early access to new features and models, data exclusion from OpenAI model training.\n",
       "- Pricing:\n",
       "  - $30 per user per month, or $25 per user per month if billed annually.\n",
       "  - Minimum of 2 seats, so it actually starts at $60 per month.\n",
       "- User reviews or ratings: Not available in the search results.\n",
       "- [Source](https://www.marketingaiinstitute.com/blog/chatgpt-team)\n",
       "\n",
       "## Anthropic’s Claude Pro\n",
       "- Main features:\n",
       "  - Professional-grade AI assistant with enhanced limits, faster responses, and priority access to new features.\n",
       "  - Higher daily message limits, faster response times, and early access to new model updates.\n",
       "  - Access to unlimited Projects to organize chats and documents, extended thinking for complex work, ability to use more Claude models.\n",
       "- Pricing:\n",
       "  - $20 per month when billed monthly, with a discounted rate of $17 per month if you opt for an annual subscription ($200 billed upfront).\n",
       "- User reviews or ratings: Not available in the search results.\n",
       "- [Source](https://www.cometapi.com/how-much-does-claude-pro-cost/)\n",
       "\n",
       "## Notable Differences or Advantages\n",
       "- OpenAI's ChatGPT Team is designed for larger teams (up to 149 people), while Claude Pro seems to be more focused on individual productivity.\n",
       "- OpenAI's ChatGPT Team has a higher starting price due to its minimum two-seat requirement.\n",
       "- Claude Pro offers a predictable and competitive price point for users who rely on AI as a central component of their daily workflow.\n",
       "- Both products offer early access to new features and models, but Claude Pro also offers extended thinking for complex work and the ability to use more Claude models."
      ],
      "text/plain": [
       "<IPython.core.display.Markdown object>"
      ]
     },
     "metadata": {},
     "output_type": "display_data"
    }
   ],
   "source": [
    "display(Markdown(response_3))\n"
   ]
  },
  {
   "cell_type": "markdown",
   "id": "4f40dbe3",
   "metadata": {},
   "source": [
    "## Bonus Task: Propose and Implement Your Own Use Case\n",
    "\n",
    "As a final challenge, think of a real-world scenario where an AI agent could provide value using web search or external tools.\n"
   ]
  }
 ],
 "metadata": {
  "kernelspec": {
   "display_name": "Python 3",
   "language": "python",
   "name": "python3"
  },
  "language_info": {
   "codemirror_mode": {
    "name": "ipython",
    "version": 3
   },
   "file_extension": ".py",
   "mimetype": "text/x-python",
   "name": "python",
   "nbconvert_exporter": "python",
   "pygments_lexer": "ipython3",
   "version": "3.11.13"
  }
 },
 "nbformat": 4,
 "nbformat_minor": 5
}
